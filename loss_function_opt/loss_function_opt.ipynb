{
 "cells": [
  {
   "cell_type": "markdown",
   "id": "suspended-description",
   "metadata": {},
   "source": [
    "# Домашнее задание по теме \"Функции потерь. Оптимизация\""
   ]
  },
  {
   "cell_type": "code",
   "execution_count": 1,
   "id": "going-disposition",
   "metadata": {},
   "outputs": [],
   "source": [
    "import numpy as np\n",
    "from sklearn.datasets import make_blobs\n",
    "from sklearn.model_selection import train_test_split\n",
    "from sklearn.metrics import accuracy_score"
   ]
  },
  {
   "cell_type": "code",
   "execution_count": 115,
   "id": "sticky-electricity",
   "metadata": {},
   "outputs": [],
   "source": [
    "N = 100\n",
    "X = np.random.uniform(low=0, high=100, size=N)\n",
    "Y = 2*X + 1 + np.random.normal(scale=5, size=N)"
   ]
  },
  {
   "cell_type": "markdown",
   "id": "norwegian-institute",
   "metadata": {},
   "source": [
    "### Линейная регрессия методом Nesterov momentum"
   ]
  },
  {
   "cell_type": "code",
   "execution_count": 3,
   "id": "confidential-lotus",
   "metadata": {},
   "outputs": [],
   "source": [
    "def NM(X, gamma, lr=0.25):\n",
    "    Y = []\n",
    "    v = 0\n",
    "    for i in range(len(X)):\n",
    "        v = gamma*v + lr*(linear_interpolation(X, i+gamma*v) if i+gamma*v < len(X) else 0)\n",
    "        Y.append(v)\n",
    "    return np.asarray(Y)"
   ]
  },
  {
   "cell_type": "code",
   "execution_count": 4,
   "id": "rapid-joyce",
   "metadata": {},
   "outputs": [],
   "source": [
    "def cost_function(X, y, theta0, theta1):\n",
    "    total_cost = 0\n",
    "    for i in range(len(X)):\n",
    "        total_cost += (theta0 + theta1*X[i] - y[i]) ** 2\n",
    "    return total_cost / (2 * len(X))"
   ]
  },
  {
   "cell_type": "code",
   "execution_count": 5,
   "id": "presidential-episode",
   "metadata": {},
   "outputs": [],
   "source": [
    "def der_theta0(X, y, theta0, theta1):\n",
    "    total_cost = 0\n",
    "    for i in range(len(X)):\n",
    "        total_cost += (theta0 + theta1*X[i] - y[i])\n",
    "    return total_cost / (len(X))    "
   ]
  },
  {
   "cell_type": "code",
   "execution_count": 6,
   "id": "democratic-burton",
   "metadata": {},
   "outputs": [],
   "source": [
    "def der_theta1(X, y, theta0, theta1):\n",
    "    total_cost = 0\n",
    "    for i in range(len(X)):\n",
    "        total_cost += (theta0 + theta1*X[i] - y[i]) * X[i]\n",
    "    return total_cost / (len(X))  "
   ]
  },
  {
   "cell_type": "code",
   "execution_count": 57,
   "id": "coated-peripheral",
   "metadata": {
    "scrolled": true
   },
   "outputs": [
    {
     "name": "stdout",
     "output_type": "stream",
     "text": [
      ">0 theta0: 1.00483, theta1: 1.32480, cost: 741.48979 \n",
      ">1 theta0: 1.00808, theta1: 1.54333, cost: 341.94671 \n",
      ">2 theta0: 1.01027, theta1: 1.69037, cost: 161.07079 \n",
      ">3 theta0: 1.01174, theta1: 1.78930, cost: 79.18701 \n",
      ">4 theta0: 1.01274, theta1: 1.85587, cost: 42.11766 \n",
      ">5 theta0: 1.01340, theta1: 1.90066, cost: 25.33610 \n",
      ">6 theta0: 1.01386, theta1: 1.93079, cost: 17.73898 \n",
      ">7 theta0: 1.01416, theta1: 1.95107, cost: 14.29971 \n",
      ">8 theta0: 1.01437, theta1: 1.96471, cost: 12.74272 \n",
      ">9 theta0: 1.01450, theta1: 1.97389, cost: 12.03787 \n",
      ">10 theta0: 1.01460, theta1: 1.98006, cost: 11.71877 \n",
      ">11 theta0: 1.01466, theta1: 1.98422, cost: 11.57432 \n",
      ">12 theta0: 1.01471, theta1: 1.98702, cost: 11.50892 \n",
      ">13 theta0: 1.01474, theta1: 1.98890, cost: 11.47932 \n",
      ">14 theta0: 1.01476, theta1: 1.99016, cost: 11.46591 \n",
      ">15 theta0: 1.01478, theta1: 1.99101, cost: 11.45985 \n",
      ">16 theta0: 1.01479, theta1: 1.99159, cost: 11.45710 \n",
      ">17 theta0: 1.01480, theta1: 1.99197, cost: 11.45586 \n",
      ">18 theta0: 1.01480, theta1: 1.99223, cost: 11.45529 \n",
      ">19 theta0: 1.01481, theta1: 1.99241, cost: 11.45504 \n"
     ]
    }
   ],
   "source": [
    "# обычный градиентный спуск\n",
    "theta0 = 1\n",
    "theta1 = 1\n",
    "gamma = 0.9\n",
    "learning_rate = 0.0001\n",
    "EPOCHS = 20\n",
    "for i in range(EPOCHS):\n",
    "    dt0 = der_theta0(X, Y, theta0, theta1)\n",
    "    dt1 = der_theta1(X, Y, theta0, theta1)\n",
    "    \n",
    "    theta0 -= learning_rate * dt0\n",
    "    theta1 -= learning_rate * dt1\n",
    "    \n",
    "    print('>%d theta0: %.5f, theta1: %.5f, cost: %.5f ' % (i, theta0, theta1, cost_function(X, Y, theta0, theta1)))"
   ]
  },
  {
   "cell_type": "code",
   "execution_count": 113,
   "id": "suspended-meaning",
   "metadata": {
    "scrolled": true
   },
   "outputs": [
    {
     "name": "stdout",
     "output_type": "stream",
     "text": [
      ">0 theta0: 1.00483, theta1: 1.32480, cost: 741.48979 \n",
      ">1 theta0: 1.00953, theta1: 1.64077, cost: 214.17626 \n",
      ">2 theta0: 1.01266, theta1: 1.85073, cost: 44.46564 \n",
      ">3 theta0: 1.01429, theta1: 1.96018, cost: 13.19200 \n",
      ">4 theta0: 1.01494, theta1: 2.00368, cost: 11.64970 \n",
      ">5 theta0: 1.01508, theta1: 2.01316, cost: 12.13521 \n",
      ">6 theta0: 1.01503, theta1: 2.00933, cost: 11.90375 \n",
      ">7 theta0: 1.01494, theta1: 2.00276, cost: 11.61833 \n",
      ">8 theta0: 1.01486, theta1: 1.99752, cost: 11.49183 \n",
      ">9 theta0: 1.01482, theta1: 1.99439, cost: 11.45916 \n",
      ">10 theta0: 1.01480, theta1: 1.99292, cost: 11.45487 \n",
      ">11 theta0: 1.01480, theta1: 1.99243, cost: 11.45501 \n",
      ">12 theta0: 1.01480, theta1: 1.99239, cost: 11.45506 \n",
      ">13 theta0: 1.01481, theta1: 1.99250, cost: 11.45494 \n",
      ">14 theta0: 1.01482, theta1: 1.99262, cost: 11.45486 \n",
      ">15 theta0: 1.01482, theta1: 1.99270, cost: 11.45483 \n",
      ">16 theta0: 1.01483, theta1: 1.99275, cost: 11.45483 \n",
      ">17 theta0: 1.01483, theta1: 1.99277, cost: 11.45483 \n",
      ">18 theta0: 1.01484, theta1: 1.99277, cost: 11.45483 \n",
      ">19 theta0: 1.01484, theta1: 1.99277, cost: 11.45483 \n"
     ]
    }
   ],
   "source": [
    "# nesterov momentum\n",
    "theta0 = 1\n",
    "theta1 = 1\n",
    "vt0 = 0  # экспоненциальные скользящие средние\n",
    "vt1 = 0\n",
    "gamma = 0.3 # коэффициент сохранения\n",
    "lr = 0.0001\n",
    "EPOCHS = 20\n",
    "\n",
    "for i in range(EPOCHS):\n",
    "    # градиент\n",
    "    dt0 = der_theta0(X, Y, theta0, theta1)\n",
    "    dt1 = der_theta1(X, Y, theta0, theta1)\n",
    "\n",
    "    # накапливаем градиент\n",
    "    vt0 = gamma*vt0 + lr*dt0\n",
    "    vt1 = gamma*vt1 + lr*dt1\n",
    "    \n",
    "    # новые значения параметров\n",
    "    theta0 -= vt0\n",
    "    theta1 -= vt1\n",
    "    \n",
    "    print('>%d theta0: %.5f, theta1: %.5f, cost: %.5f ' % (i, theta0, theta1, cost_function(X, Y, theta0, theta1)))"
   ]
  },
  {
   "cell_type": "markdown",
   "id": "affiliated-meeting",
   "metadata": {},
   "source": [
    "Наблюдаем, что метод с накоплением импульса Нестерова (при условии корректного подбора гиперпараметров) сошёлся на несколько итераций быстрее обычного градиентного спуска."
   ]
  },
  {
   "cell_type": "markdown",
   "id": "incorporated-poker",
   "metadata": {},
   "source": [
    "### Метод RMSProp"
   ]
  },
  {
   "cell_type": "markdown",
   "id": "clinical-capacity",
   "metadata": {},
   "source": [
    "## *здесь что-то не так: алгоритм не может сойтись ни с какими гиперпараметрами*"
   ]
  },
  {
   "cell_type": "code",
   "execution_count": 125,
   "id": "accessory-final",
   "metadata": {},
   "outputs": [
    {
     "name": "stdout",
     "output_type": "stream",
     "text": [
      ">0 theta0: 1.29881, theta1: 1.29881, cost: 794.29636 \n",
      ">1 theta0: 1.53389, theta1: 1.53387, cost: 350.79601 \n",
      ">2 theta0: 1.73944, theta1: 1.73934, cost: 112.20836 \n",
      ">3 theta0: 1.90912, theta1: 1.90884, cost: 20.08735 \n",
      ">4 theta0: 2.00404, theta1: 2.00317, cost: 9.81100 \n",
      ">5 theta0: 1.97545, theta1: 1.97302, cost: 9.90591 \n",
      ">6 theta0: 2.03895, theta1: 2.03412, cost: 12.83613 \n",
      ">7 theta0: 1.82427, theta1: 1.81750, cost: 57.91415 \n",
      ">8 theta0: 2.11745, theta1: 2.11057, cost: 33.83770 \n",
      ">9 theta0: 1.88349, theta1: 1.87580, cost: 30.57362 \n",
      ">10 theta0: 2.12330, theta1: 2.11493, cost: 35.62633 \n",
      ">11 theta0: 1.86931, theta1: 1.86037, cost: 36.71308 \n",
      ">12 theta0: 2.12269, theta1: 2.11318, cost: 34.91017 \n",
      ">13 theta0: 1.87506, theta1: 1.86492, cost: 34.81143 \n",
      ">14 theta0: 2.12497, theta1: 2.11423, cost: 35.35130 \n",
      ">15 theta0: 1.87497, theta1: 1.86364, cost: 35.32919 \n",
      ">16 theta0: 2.12570, theta1: 2.11377, cost: 35.16904 \n",
      ">17 theta0: 1.87647, theta1: 1.86396, cost: 35.19167 \n",
      ">18 theta0: 2.12703, theta1: 2.11392, cost: 35.23746 \n",
      ">19 theta0: 1.87755, theta1: 1.86385, cost: 35.22605 \n",
      ">20 theta0: 2.12812, theta1: 2.11385, cost: 35.21343 \n",
      ">21 theta0: 1.87871, theta1: 1.86386, cost: 35.21809 \n",
      ">22 theta0: 2.12927, theta1: 2.11385, cost: 35.22139 \n",
      ">23 theta0: 1.87984, theta1: 1.86384, cost: 35.21963 \n",
      ">24 theta0: 2.13039, theta1: 2.11383, cost: 35.21880 \n",
      ">25 theta0: 1.88096, theta1: 1.86382, cost: 35.21938 \n",
      ">26 theta0: 2.13151, theta1: 2.11381, cost: 35.21955 \n",
      ">27 theta0: 1.88207, theta1: 1.86380, cost: 35.21934 \n",
      ">28 theta0: 2.13261, theta1: 2.11379, cost: 35.21928 \n",
      ">29 theta0: 1.88317, theta1: 1.86379, cost: 35.21933 \n",
      ">30 theta0: 2.13371, theta1: 2.11378, cost: 35.21932 \n",
      ">31 theta0: 1.88425, theta1: 1.86377, cost: 35.21928 \n",
      ">32 theta0: 2.13479, theta1: 2.11376, cost: 35.21927 \n",
      ">33 theta0: 1.88533, theta1: 1.86375, cost: 35.21926 \n",
      ">34 theta0: 2.13586, theta1: 2.11374, cost: 35.21924 \n",
      ">35 theta0: 1.88640, theta1: 1.86374, cost: 35.21923 \n",
      ">36 theta0: 2.13692, theta1: 2.11373, cost: 35.21921 \n",
      ">37 theta0: 1.88745, theta1: 1.86372, cost: 35.21920 \n",
      ">38 theta0: 2.13797, theta1: 2.11371, cost: 35.21918 \n",
      ">39 theta0: 1.88850, theta1: 1.86370, cost: 35.21917 \n",
      ">40 theta0: 2.13901, theta1: 2.11370, cost: 35.21915 \n",
      ">41 theta0: 1.88953, theta1: 1.86369, cost: 35.21914 \n",
      ">42 theta0: 2.14004, theta1: 2.11368, cost: 35.21913 \n",
      ">43 theta0: 1.89055, theta1: 1.86367, cost: 35.21911 \n",
      ">44 theta0: 2.14106, theta1: 2.11367, cost: 35.21910 \n",
      ">45 theta0: 1.89157, theta1: 1.86366, cost: 35.21908 \n",
      ">46 theta0: 2.14207, theta1: 2.11365, cost: 35.21907 \n",
      ">47 theta0: 1.89257, theta1: 1.86364, cost: 35.21906 \n",
      ">48 theta0: 2.14307, theta1: 2.11364, cost: 35.21904 \n",
      ">49 theta0: 1.89357, theta1: 1.86363, cost: 35.21903 \n"
     ]
    }
   ],
   "source": [
    "# rmsprop\n",
    "theta0 = 1\n",
    "theta1 = 1\n",
    "eg0 = 0  # бегущие средние квадратов градиента\n",
    "eg1 = 0\n",
    "gamma = 0.3 # коэффициент сохранения\n",
    "lr = 0.25\n",
    "eps = 10e-6\n",
    "\n",
    "EPOCHS = 50\n",
    "\n",
    "for i in range(EPOCHS):\n",
    "    # градиент\n",
    "    dt0 = der_theta0(X, Y, theta0, theta1)\n",
    "    dt1 = der_theta1(X, Y, theta0, theta1)\n",
    "\n",
    "    # в данном методе используем квадраты градиента\n",
    "    eg0 = gamma*eg0 + (1-gamma)*dt0*dt0\n",
    "    eg1 = gamma*eg1 + (1-gamma)*dt1*dt1\n",
    "    \n",
    "    # новые значения параметров\n",
    "    theta0 -= (lr * dt0)/(np.sqrt(eg0 + eps))\n",
    "    theta1 -= (lr * dt1)/(np.sqrt(eg1 + eps))\n",
    "    \n",
    "    print('>%d theta0: %.5f, theta1: %.5f, cost: %.5f ' % (i, theta0, theta1, cost_function(X, Y, theta0, theta1)))"
   ]
  }
 ],
 "metadata": {
  "kernelspec": {
   "display_name": "Python 3",
   "language": "python",
   "name": "python3"
  },
  "language_info": {
   "codemirror_mode": {
    "name": "ipython",
    "version": 3
   },
   "file_extension": ".py",
   "mimetype": "text/x-python",
   "name": "python",
   "nbconvert_exporter": "python",
   "pygments_lexer": "ipython3",
   "version": "3.8.5"
  }
 },
 "nbformat": 4,
 "nbformat_minor": 5
}
