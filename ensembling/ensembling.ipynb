{
 "cells": [
  {
   "cell_type": "markdown",
   "id": "concerned-crossing",
   "metadata": {},
   "source": [
    "# Домашнее задание по теме \"Ансамблирование\""
   ]
  },
  {
   "cell_type": "code",
   "execution_count": 1,
   "id": "right-channels",
   "metadata": {},
   "outputs": [],
   "source": [
    "import matplotlib.pyplot as plt\n",
    "import pandas as pd\n",
    "import numpy as np"
   ]
  },
  {
   "cell_type": "markdown",
   "id": "christian-furniture",
   "metadata": {},
   "source": [
    " Загружаем данные. "
   ]
  },
  {
   "cell_type": "code",
   "execution_count": 2,
   "id": "dressed-pencil",
   "metadata": {},
   "outputs": [],
   "source": [
    "data = pd.read_csv('train.csv')"
   ]
  },
  {
   "cell_type": "code",
   "execution_count": 3,
   "id": "occupational-custody",
   "metadata": {},
   "outputs": [
    {
     "data": {
      "text/html": [
       "<div>\n",
       "<style scoped>\n",
       "    .dataframe tbody tr th:only-of-type {\n",
       "        vertical-align: middle;\n",
       "    }\n",
       "\n",
       "    .dataframe tbody tr th {\n",
       "        vertical-align: top;\n",
       "    }\n",
       "\n",
       "    .dataframe thead th {\n",
       "        text-align: right;\n",
       "    }\n",
       "</style>\n",
       "<table border=\"1\" class=\"dataframe\">\n",
       "  <thead>\n",
       "    <tr style=\"text-align: right;\">\n",
       "      <th></th>\n",
       "      <th>Id</th>\n",
       "      <th>MSSubClass</th>\n",
       "      <th>MSZoning</th>\n",
       "      <th>LotFrontage</th>\n",
       "      <th>LotArea</th>\n",
       "      <th>Street</th>\n",
       "      <th>Alley</th>\n",
       "      <th>LotShape</th>\n",
       "      <th>LandContour</th>\n",
       "      <th>Utilities</th>\n",
       "      <th>...</th>\n",
       "      <th>PoolArea</th>\n",
       "      <th>PoolQC</th>\n",
       "      <th>Fence</th>\n",
       "      <th>MiscFeature</th>\n",
       "      <th>MiscVal</th>\n",
       "      <th>MoSold</th>\n",
       "      <th>YrSold</th>\n",
       "      <th>SaleType</th>\n",
       "      <th>SaleCondition</th>\n",
       "      <th>SalePrice</th>\n",
       "    </tr>\n",
       "  </thead>\n",
       "  <tbody>\n",
       "    <tr>\n",
       "      <th>0</th>\n",
       "      <td>1</td>\n",
       "      <td>60</td>\n",
       "      <td>RL</td>\n",
       "      <td>65.0</td>\n",
       "      <td>8450</td>\n",
       "      <td>Pave</td>\n",
       "      <td>NaN</td>\n",
       "      <td>Reg</td>\n",
       "      <td>Lvl</td>\n",
       "      <td>AllPub</td>\n",
       "      <td>...</td>\n",
       "      <td>0</td>\n",
       "      <td>NaN</td>\n",
       "      <td>NaN</td>\n",
       "      <td>NaN</td>\n",
       "      <td>0</td>\n",
       "      <td>2</td>\n",
       "      <td>2008</td>\n",
       "      <td>WD</td>\n",
       "      <td>Normal</td>\n",
       "      <td>208500</td>\n",
       "    </tr>\n",
       "    <tr>\n",
       "      <th>1</th>\n",
       "      <td>2</td>\n",
       "      <td>20</td>\n",
       "      <td>RL</td>\n",
       "      <td>80.0</td>\n",
       "      <td>9600</td>\n",
       "      <td>Pave</td>\n",
       "      <td>NaN</td>\n",
       "      <td>Reg</td>\n",
       "      <td>Lvl</td>\n",
       "      <td>AllPub</td>\n",
       "      <td>...</td>\n",
       "      <td>0</td>\n",
       "      <td>NaN</td>\n",
       "      <td>NaN</td>\n",
       "      <td>NaN</td>\n",
       "      <td>0</td>\n",
       "      <td>5</td>\n",
       "      <td>2007</td>\n",
       "      <td>WD</td>\n",
       "      <td>Normal</td>\n",
       "      <td>181500</td>\n",
       "    </tr>\n",
       "    <tr>\n",
       "      <th>2</th>\n",
       "      <td>3</td>\n",
       "      <td>60</td>\n",
       "      <td>RL</td>\n",
       "      <td>68.0</td>\n",
       "      <td>11250</td>\n",
       "      <td>Pave</td>\n",
       "      <td>NaN</td>\n",
       "      <td>IR1</td>\n",
       "      <td>Lvl</td>\n",
       "      <td>AllPub</td>\n",
       "      <td>...</td>\n",
       "      <td>0</td>\n",
       "      <td>NaN</td>\n",
       "      <td>NaN</td>\n",
       "      <td>NaN</td>\n",
       "      <td>0</td>\n",
       "      <td>9</td>\n",
       "      <td>2008</td>\n",
       "      <td>WD</td>\n",
       "      <td>Normal</td>\n",
       "      <td>223500</td>\n",
       "    </tr>\n",
       "    <tr>\n",
       "      <th>3</th>\n",
       "      <td>4</td>\n",
       "      <td>70</td>\n",
       "      <td>RL</td>\n",
       "      <td>60.0</td>\n",
       "      <td>9550</td>\n",
       "      <td>Pave</td>\n",
       "      <td>NaN</td>\n",
       "      <td>IR1</td>\n",
       "      <td>Lvl</td>\n",
       "      <td>AllPub</td>\n",
       "      <td>...</td>\n",
       "      <td>0</td>\n",
       "      <td>NaN</td>\n",
       "      <td>NaN</td>\n",
       "      <td>NaN</td>\n",
       "      <td>0</td>\n",
       "      <td>2</td>\n",
       "      <td>2006</td>\n",
       "      <td>WD</td>\n",
       "      <td>Abnorml</td>\n",
       "      <td>140000</td>\n",
       "    </tr>\n",
       "    <tr>\n",
       "      <th>4</th>\n",
       "      <td>5</td>\n",
       "      <td>60</td>\n",
       "      <td>RL</td>\n",
       "      <td>84.0</td>\n",
       "      <td>14260</td>\n",
       "      <td>Pave</td>\n",
       "      <td>NaN</td>\n",
       "      <td>IR1</td>\n",
       "      <td>Lvl</td>\n",
       "      <td>AllPub</td>\n",
       "      <td>...</td>\n",
       "      <td>0</td>\n",
       "      <td>NaN</td>\n",
       "      <td>NaN</td>\n",
       "      <td>NaN</td>\n",
       "      <td>0</td>\n",
       "      <td>12</td>\n",
       "      <td>2008</td>\n",
       "      <td>WD</td>\n",
       "      <td>Normal</td>\n",
       "      <td>250000</td>\n",
       "    </tr>\n",
       "  </tbody>\n",
       "</table>\n",
       "<p>5 rows × 81 columns</p>\n",
       "</div>"
      ],
      "text/plain": [
       "   Id  MSSubClass MSZoning  LotFrontage  LotArea Street Alley LotShape  \\\n",
       "0   1          60       RL         65.0     8450   Pave   NaN      Reg   \n",
       "1   2          20       RL         80.0     9600   Pave   NaN      Reg   \n",
       "2   3          60       RL         68.0    11250   Pave   NaN      IR1   \n",
       "3   4          70       RL         60.0     9550   Pave   NaN      IR1   \n",
       "4   5          60       RL         84.0    14260   Pave   NaN      IR1   \n",
       "\n",
       "  LandContour Utilities  ... PoolArea PoolQC Fence MiscFeature MiscVal MoSold  \\\n",
       "0         Lvl    AllPub  ...        0    NaN   NaN         NaN       0      2   \n",
       "1         Lvl    AllPub  ...        0    NaN   NaN         NaN       0      5   \n",
       "2         Lvl    AllPub  ...        0    NaN   NaN         NaN       0      9   \n",
       "3         Lvl    AllPub  ...        0    NaN   NaN         NaN       0      2   \n",
       "4         Lvl    AllPub  ...        0    NaN   NaN         NaN       0     12   \n",
       "\n",
       "  YrSold  SaleType  SaleCondition  SalePrice  \n",
       "0   2008        WD         Normal     208500  \n",
       "1   2007        WD         Normal     181500  \n",
       "2   2008        WD         Normal     223500  \n",
       "3   2006        WD        Abnorml     140000  \n",
       "4   2008        WD         Normal     250000  \n",
       "\n",
       "[5 rows x 81 columns]"
      ]
     },
     "execution_count": 3,
     "metadata": {},
     "output_type": "execute_result"
    }
   ],
   "source": [
    "data.head()"
   ]
  },
  {
   "cell_type": "markdown",
   "id": "aggressive-formation",
   "metadata": {},
   "source": [
    "Подготавливаем данные для обработки."
   ]
  },
  {
   "cell_type": "code",
   "execution_count": 4,
   "id": "documentary-beverage",
   "metadata": {},
   "outputs": [],
   "source": [
    "# Находим категориальные признаки\n",
    "cat_feat = list(data.dtypes[data.dtypes == object].index)\n",
    "\n",
    "# Признак \"MSSubClass\" явно категориальный, хотя и имеет тип integer. Добавим его вручную\n",
    "cat_feat.append('MSSubClass')\n",
    "\n",
    "# Закодируем пропущенные значений строкой, факт пропущенного значения тоже может нести в себе информацию\n",
    "data[cat_feat] = data[cat_feat].fillna('nan')"
   ]
  },
  {
   "cell_type": "code",
   "execution_count": 5,
   "id": "educational-brooks",
   "metadata": {},
   "outputs": [],
   "source": [
    "# Отфильтруем непрерывные признаки\n",
    "num_feat = [f for f in data if f not in (cat_feat + ['Id', 'SalePrice'])]\n",
    "\n",
    "# Заполним пропуски специальным значением\n",
    "data[num_feat] = data[num_feat].fillna(-999)"
   ]
  },
  {
   "cell_type": "code",
   "execution_count": 6,
   "id": "advisory-pottery",
   "metadata": {},
   "outputs": [],
   "source": [
    "# Создаём дамми-переменные для категориальных признаков\n",
    "dummy = pd.get_dummies(data[cat_feat], columns=cat_feat)"
   ]
  },
  {
   "cell_type": "code",
   "execution_count": 7,
   "id": "literary-evening",
   "metadata": {},
   "outputs": [],
   "source": [
    "# Разбиваем данные\n",
    "from sklearn.model_selection import train_test_split \n",
    "\n",
    "X = pd.concat([data[num_feat], dummy], axis=1)\n",
    "y = data['SalePrice']\n",
    "X_train, X_test, y_train, y_test = train_test_split(X, y, test_size=0.25, random_state=42)"
   ]
  },
  {
   "cell_type": "markdown",
   "id": "suspended-discharge",
   "metadata": {},
   "source": [
    "Создаём и обучаем случайный лес. Для оценки качества модели используем 10-fold КВ."
   ]
  },
  {
   "cell_type": "code",
   "execution_count": 8,
   "id": "copyrighted-homework",
   "metadata": {
    "scrolled": true
   },
   "outputs": [
    {
     "data": {
      "text/plain": [
       "(0.8263161700119278,\n",
       " array([0.82688869, 0.90790974, 0.67441393, 0.61516603, 0.86856427,\n",
       "        0.87873843, 0.8650775 , 0.8869763 , 0.82757329, 0.91185352]))"
      ]
     },
     "execution_count": 8,
     "metadata": {},
     "output_type": "execute_result"
    }
   ],
   "source": [
    "from sklearn.ensemble import RandomForestRegressor\n",
    "from sklearn.model_selection import cross_val_score\n",
    "from sklearn.model_selection import KFold\n",
    "\n",
    "clf_rf = RandomForestRegressor()\n",
    "kf = KFold(n_splits=10)\n",
    "scores = cross_val_score(clf_rf, X_train, y_train, cv=kf)\n",
    "scores.mean(), scores"
   ]
  },
  {
   "cell_type": "markdown",
   "id": "anticipated-signature",
   "metadata": {},
   "source": [
    "Модель показала хорошие результаты, средний скор равен 0.83. "
   ]
  },
  {
   "cell_type": "markdown",
   "id": "suited-wings",
   "metadata": {},
   "source": [
    "Выведем важность признаков."
   ]
  },
  {
   "cell_type": "code",
   "execution_count": 10,
   "id": "wicked-qualification",
   "metadata": {},
   "outputs": [
    {
     "data": {
      "text/plain": [
       "<function matplotlib.pyplot.show(close=None, block=None)>"
      ]
     },
     "execution_count": 10,
     "metadata": {},
     "output_type": "execute_result"
    },
    {
     "data": {
      "image/png": "[encoded data removed]",
      "text/plain": [
       "<Figure size 432x288 with 1 Axes>"
      ]
     },
     "metadata": {
      "needs_background": "light"
     },
     "output_type": "display_data"
    }
   ],
   "source": [
    "clf_rf.fit(X_train, y_train)\n",
    "imp = pd.Series(clf_rf.feature_importances_)\n",
    "imp.index = pd.Series(X_train.columns)\n",
    "plt.title('Самые важные признаки')\n",
    "plt.xlabel('Признаки')\n",
    "plt.ylabel('Крит. Гини')\n",
    "plt.bar(imp.sort_values(ascending=False).head(5).index, imp.sort_values(ascending=False).head(5))\n",
    "plt.show"
   ]
  },
  {
   "cell_type": "markdown",
   "id": "charitable-preserve",
   "metadata": {},
   "source": [
    "Обучим стекинг."
   ]
  },
  {
   "cell_type": "code",
   "execution_count": 11,
   "id": "voluntary-newport",
   "metadata": {},
   "outputs": [],
   "source": [
    "from sklearn.ensemble import StackingRegressor\n",
    "from sklearn.linear_model import LinearRegression\n",
    "from sklearn.neighbors import KNeighborsRegressor\n",
    "from sklearn.tree import DecisionTreeRegressor\n",
    "from sklearn.linear_model import RidgeCV"
   ]
  },
  {
   "cell_type": "code",
   "execution_count": 13,
   "id": "prompt-stream",
   "metadata": {
    "scrolled": true
   },
   "outputs": [
    {
     "name": "stdout",
     "output_type": "stream",
     "text": [
      "LinearRegression() : 0.40645343202670825\n",
      "KNeighborsRegressor() : 0.6921109994924753\n",
      "DecisionTreeRegressor() : 0.7684000728380846\n",
      "Stacking Regressor: 0.7922374878522733\n"
     ]
    }
   ],
   "source": [
    "sr = StackingRegressor(\n",
    "    [\n",
    "        ('lr', LinearRegression()),\n",
    "        ('kn', KNeighborsRegressor()),\n",
    "        ('dt', DecisionTreeRegressor())\n",
    "    ], RidgeCV())\n",
    "\n",
    "sr.fit(X_train, y_train)\n",
    "\n",
    "for est in sr.estimators_:\n",
    "    print('{} : {}'.format(est, est.score(X_test, y_test)))\n",
    "    \n",
    "print('Stacking Regressor: {}'.format(sr.score(X_test, y_test)))"
   ]
  },
  {
   "cell_type": "markdown",
   "id": "stock-generic",
   "metadata": {},
   "source": [
    "Как видим, линейная регрессия показала весьма посредственный результат на тестовой выборке. Метод k-ближайших показал неплохую точность на тестовой выборке, но ниже, чем у модели на основе дерева решений. Ансамблевая модель же продемонстрировала наилучший результат, обеспечив прирост на несколько процентных пунктов по сравнению с деревом решений."
   ]
  }
 ],
 "metadata": {
  "kernelspec": {
   "display_name": "Python 3",
   "language": "python",
   "name": "python3"
  },
  "language_info": {
   "codemirror_mode": {
    "name": "ipython",
    "version": 3
   },
   "file_extension": ".py",
   "mimetype": "text/x-python",
   "name": "python",
   "nbconvert_exporter": "python",
   "pygments_lexer": "ipython3",
   "version": "3.8.5"
  }
 },
 "nbformat": 4,
 "nbformat_minor": 5
}
